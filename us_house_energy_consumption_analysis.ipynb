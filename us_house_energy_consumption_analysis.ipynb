{
  "nbformat": 4,
  "nbformat_minor": 0,
  "metadata": {
    "colab": {
      "name": "Time Series Analysis Submission_Arsyi Adlani.ipynb",
      "provenance": [],
      "collapsed_sections": [],
      "authorship_tag": "ABX9TyOWPp625YIgwd93c4RZzgeQ",
      "include_colab_link": true
    },
    "kernelspec": {
      "name": "python3",
      "display_name": "Python 3"
    }
  },
  "cells": [
    {
      "cell_type": "markdown",
      "metadata": {
        "id": "view-in-github",
        "colab_type": "text"
      },
      "source": [
        "<a href=\"https://colab.research.google.com/github/arsyiadlani/Time_Series_Analysis/blob/main/us_house_energy_consumption_analysis.ipynb\" target=\"_parent\"><img src=\"https://colab.research.google.com/assets/colab-badge.svg\" alt=\"Open In Colab\"/></a>"
      ]
    },
    {
      "cell_type": "markdown",
      "metadata": {
        "id": "slkNbO0iul5F"
      },
      "source": [
        "##DATA RETRIEVING"
      ]
    },
    {
      "cell_type": "code",
      "metadata": {
        "id": "J568twum7MMp",
        "colab": {
          "base_uri": "https://localhost:8080/",
          "height": 34
        },
        "outputId": "a943f043-6700-47ad-b07a-602ff9db36b8"
      },
      "source": [
        "from google.colab import drive\n",
        "\n",
        "drive.mount(\"/content/drive\")"
      ],
      "execution_count": null,
      "outputs": [
        {
          "output_type": "stream",
          "text": [
            "Drive already mounted at /content/drive; to attempt to forcibly remount, call drive.mount(\"/content/drive\", force_remount=True).\n"
          ],
          "name": "stdout"
        }
      ]
    },
    {
      "cell_type": "code",
      "metadata": {
        "id": "ElNF4-U-WkCv",
        "colab": {
          "base_uri": "https://localhost:8080/",
          "height": 660
        },
        "outputId": "610518ad-ab66-4905-e1b0-3af5e74c8a1e"
      },
      "source": [
        "import pandas as pd\n",
        "\n",
        "df = pd.read_csv(\"/content/drive/My Drive/HomeC.csv\")\n",
        "df"
      ],
      "execution_count": null,
      "outputs": [
        {
          "output_type": "stream",
          "text": [
            "/usr/local/lib/python3.6/dist-packages/IPython/core/interactiveshell.py:2718: DtypeWarning: Columns (0,27) have mixed types.Specify dtype option on import or set low_memory=False.\n",
            "  interactivity=interactivity, compiler=compiler, result=result)\n"
          ],
          "name": "stderr"
        },
        {
          "output_type": "execute_result",
          "data": {
            "text/html": [
              "<div>\n",
              "<style scoped>\n",
              "    .dataframe tbody tr th:only-of-type {\n",
              "        vertical-align: middle;\n",
              "    }\n",
              "\n",
              "    .dataframe tbody tr th {\n",
              "        vertical-align: top;\n",
              "    }\n",
              "\n",
              "    .dataframe thead th {\n",
              "        text-align: right;\n",
              "    }\n",
              "</style>\n",
              "<table border=\"1\" class=\"dataframe\">\n",
              "  <thead>\n",
              "    <tr style=\"text-align: right;\">\n",
              "      <th></th>\n",
              "      <th>time</th>\n",
              "      <th>use [kW]</th>\n",
              "      <th>gen [kW]</th>\n",
              "      <th>House overall [kW]</th>\n",
              "      <th>Dishwasher [kW]</th>\n",
              "      <th>Furnace 1 [kW]</th>\n",
              "      <th>Furnace 2 [kW]</th>\n",
              "      <th>Home office [kW]</th>\n",
              "      <th>Fridge [kW]</th>\n",
              "      <th>Wine cellar [kW]</th>\n",
              "      <th>Garage door [kW]</th>\n",
              "      <th>Kitchen 12 [kW]</th>\n",
              "      <th>Kitchen 14 [kW]</th>\n",
              "      <th>Kitchen 38 [kW]</th>\n",
              "      <th>Barn [kW]</th>\n",
              "      <th>Well [kW]</th>\n",
              "      <th>Microwave [kW]</th>\n",
              "      <th>Living room [kW]</th>\n",
              "      <th>Solar [kW]</th>\n",
              "      <th>temperature</th>\n",
              "      <th>icon</th>\n",
              "      <th>humidity</th>\n",
              "      <th>visibility</th>\n",
              "      <th>summary</th>\n",
              "      <th>apparentTemperature</th>\n",
              "      <th>pressure</th>\n",
              "      <th>windSpeed</th>\n",
              "      <th>cloudCover</th>\n",
              "      <th>windBearing</th>\n",
              "      <th>precipIntensity</th>\n",
              "      <th>dewPoint</th>\n",
              "      <th>precipProbability</th>\n",
              "    </tr>\n",
              "  </thead>\n",
              "  <tbody>\n",
              "    <tr>\n",
              "      <th>0</th>\n",
              "      <td>1451624400</td>\n",
              "      <td>0.932833</td>\n",
              "      <td>0.003483</td>\n",
              "      <td>0.932833</td>\n",
              "      <td>0.000033</td>\n",
              "      <td>0.020700</td>\n",
              "      <td>0.061917</td>\n",
              "      <td>0.442633</td>\n",
              "      <td>0.124150</td>\n",
              "      <td>0.006983</td>\n",
              "      <td>0.013083</td>\n",
              "      <td>0.000417</td>\n",
              "      <td>0.000150</td>\n",
              "      <td>0.000000</td>\n",
              "      <td>0.031350</td>\n",
              "      <td>0.001017</td>\n",
              "      <td>0.004067</td>\n",
              "      <td>0.001517</td>\n",
              "      <td>0.003483</td>\n",
              "      <td>36.14</td>\n",
              "      <td>clear-night</td>\n",
              "      <td>0.62</td>\n",
              "      <td>10.00</td>\n",
              "      <td>Clear</td>\n",
              "      <td>29.26</td>\n",
              "      <td>1016.91</td>\n",
              "      <td>9.18</td>\n",
              "      <td>cloudCover</td>\n",
              "      <td>282.0</td>\n",
              "      <td>0.0000</td>\n",
              "      <td>24.40</td>\n",
              "      <td>0.00</td>\n",
              "    </tr>\n",
              "    <tr>\n",
              "      <th>1</th>\n",
              "      <td>1451624401</td>\n",
              "      <td>0.934333</td>\n",
              "      <td>0.003467</td>\n",
              "      <td>0.934333</td>\n",
              "      <td>0.000000</td>\n",
              "      <td>0.020717</td>\n",
              "      <td>0.063817</td>\n",
              "      <td>0.444067</td>\n",
              "      <td>0.124000</td>\n",
              "      <td>0.006983</td>\n",
              "      <td>0.013117</td>\n",
              "      <td>0.000417</td>\n",
              "      <td>0.000150</td>\n",
              "      <td>0.000000</td>\n",
              "      <td>0.031500</td>\n",
              "      <td>0.001017</td>\n",
              "      <td>0.004067</td>\n",
              "      <td>0.001650</td>\n",
              "      <td>0.003467</td>\n",
              "      <td>36.14</td>\n",
              "      <td>clear-night</td>\n",
              "      <td>0.62</td>\n",
              "      <td>10.00</td>\n",
              "      <td>Clear</td>\n",
              "      <td>29.26</td>\n",
              "      <td>1016.91</td>\n",
              "      <td>9.18</td>\n",
              "      <td>cloudCover</td>\n",
              "      <td>282.0</td>\n",
              "      <td>0.0000</td>\n",
              "      <td>24.40</td>\n",
              "      <td>0.00</td>\n",
              "    </tr>\n",
              "    <tr>\n",
              "      <th>2</th>\n",
              "      <td>1451624402</td>\n",
              "      <td>0.931817</td>\n",
              "      <td>0.003467</td>\n",
              "      <td>0.931817</td>\n",
              "      <td>0.000017</td>\n",
              "      <td>0.020700</td>\n",
              "      <td>0.062317</td>\n",
              "      <td>0.446067</td>\n",
              "      <td>0.123533</td>\n",
              "      <td>0.006983</td>\n",
              "      <td>0.013083</td>\n",
              "      <td>0.000433</td>\n",
              "      <td>0.000167</td>\n",
              "      <td>0.000017</td>\n",
              "      <td>0.031517</td>\n",
              "      <td>0.001000</td>\n",
              "      <td>0.004067</td>\n",
              "      <td>0.001650</td>\n",
              "      <td>0.003467</td>\n",
              "      <td>36.14</td>\n",
              "      <td>clear-night</td>\n",
              "      <td>0.62</td>\n",
              "      <td>10.00</td>\n",
              "      <td>Clear</td>\n",
              "      <td>29.26</td>\n",
              "      <td>1016.91</td>\n",
              "      <td>9.18</td>\n",
              "      <td>cloudCover</td>\n",
              "      <td>282.0</td>\n",
              "      <td>0.0000</td>\n",
              "      <td>24.40</td>\n",
              "      <td>0.00</td>\n",
              "    </tr>\n",
              "    <tr>\n",
              "      <th>3</th>\n",
              "      <td>1451624403</td>\n",
              "      <td>1.022050</td>\n",
              "      <td>0.003483</td>\n",
              "      <td>1.022050</td>\n",
              "      <td>0.000017</td>\n",
              "      <td>0.106900</td>\n",
              "      <td>0.068517</td>\n",
              "      <td>0.446583</td>\n",
              "      <td>0.123133</td>\n",
              "      <td>0.006983</td>\n",
              "      <td>0.013000</td>\n",
              "      <td>0.000433</td>\n",
              "      <td>0.000217</td>\n",
              "      <td>0.000000</td>\n",
              "      <td>0.031500</td>\n",
              "      <td>0.001017</td>\n",
              "      <td>0.004067</td>\n",
              "      <td>0.001617</td>\n",
              "      <td>0.003483</td>\n",
              "      <td>36.14</td>\n",
              "      <td>clear-night</td>\n",
              "      <td>0.62</td>\n",
              "      <td>10.00</td>\n",
              "      <td>Clear</td>\n",
              "      <td>29.26</td>\n",
              "      <td>1016.91</td>\n",
              "      <td>9.18</td>\n",
              "      <td>cloudCover</td>\n",
              "      <td>282.0</td>\n",
              "      <td>0.0000</td>\n",
              "      <td>24.40</td>\n",
              "      <td>0.00</td>\n",
              "    </tr>\n",
              "    <tr>\n",
              "      <th>4</th>\n",
              "      <td>1451624404</td>\n",
              "      <td>1.139400</td>\n",
              "      <td>0.003467</td>\n",
              "      <td>1.139400</td>\n",
              "      <td>0.000133</td>\n",
              "      <td>0.236933</td>\n",
              "      <td>0.063983</td>\n",
              "      <td>0.446533</td>\n",
              "      <td>0.122850</td>\n",
              "      <td>0.006850</td>\n",
              "      <td>0.012783</td>\n",
              "      <td>0.000450</td>\n",
              "      <td>0.000333</td>\n",
              "      <td>0.000000</td>\n",
              "      <td>0.031500</td>\n",
              "      <td>0.001017</td>\n",
              "      <td>0.004067</td>\n",
              "      <td>0.001583</td>\n",
              "      <td>0.003467</td>\n",
              "      <td>36.14</td>\n",
              "      <td>clear-night</td>\n",
              "      <td>0.62</td>\n",
              "      <td>10.00</td>\n",
              "      <td>Clear</td>\n",
              "      <td>29.26</td>\n",
              "      <td>1016.91</td>\n",
              "      <td>9.18</td>\n",
              "      <td>cloudCover</td>\n",
              "      <td>282.0</td>\n",
              "      <td>0.0000</td>\n",
              "      <td>24.40</td>\n",
              "      <td>0.00</td>\n",
              "    </tr>\n",
              "    <tr>\n",
              "      <th>...</th>\n",
              "      <td>...</td>\n",
              "      <td>...</td>\n",
              "      <td>...</td>\n",
              "      <td>...</td>\n",
              "      <td>...</td>\n",
              "      <td>...</td>\n",
              "      <td>...</td>\n",
              "      <td>...</td>\n",
              "      <td>...</td>\n",
              "      <td>...</td>\n",
              "      <td>...</td>\n",
              "      <td>...</td>\n",
              "      <td>...</td>\n",
              "      <td>...</td>\n",
              "      <td>...</td>\n",
              "      <td>...</td>\n",
              "      <td>...</td>\n",
              "      <td>...</td>\n",
              "      <td>...</td>\n",
              "      <td>...</td>\n",
              "      <td>...</td>\n",
              "      <td>...</td>\n",
              "      <td>...</td>\n",
              "      <td>...</td>\n",
              "      <td>...</td>\n",
              "      <td>...</td>\n",
              "      <td>...</td>\n",
              "      <td>...</td>\n",
              "      <td>...</td>\n",
              "      <td>...</td>\n",
              "      <td>...</td>\n",
              "      <td>...</td>\n",
              "    </tr>\n",
              "    <tr>\n",
              "      <th>503906</th>\n",
              "      <td>1452128306</td>\n",
              "      <td>1.599333</td>\n",
              "      <td>0.003233</td>\n",
              "      <td>1.599333</td>\n",
              "      <td>0.000050</td>\n",
              "      <td>0.104017</td>\n",
              "      <td>0.625033</td>\n",
              "      <td>0.041750</td>\n",
              "      <td>0.005233</td>\n",
              "      <td>0.008433</td>\n",
              "      <td>0.013433</td>\n",
              "      <td>0.000467</td>\n",
              "      <td>0.000100</td>\n",
              "      <td>0.000033</td>\n",
              "      <td>0.032200</td>\n",
              "      <td>0.000950</td>\n",
              "      <td>0.003800</td>\n",
              "      <td>0.000933</td>\n",
              "      <td>0.003233</td>\n",
              "      <td>35.12</td>\n",
              "      <td>rain</td>\n",
              "      <td>0.86</td>\n",
              "      <td>8.74</td>\n",
              "      <td>Light Rain</td>\n",
              "      <td>29.45</td>\n",
              "      <td>1011.49</td>\n",
              "      <td>6.72</td>\n",
              "      <td>0.31</td>\n",
              "      <td>186.0</td>\n",
              "      <td>0.0101</td>\n",
              "      <td>31.27</td>\n",
              "      <td>0.51</td>\n",
              "    </tr>\n",
              "    <tr>\n",
              "      <th>503907</th>\n",
              "      <td>1452128307</td>\n",
              "      <td>1.924267</td>\n",
              "      <td>0.003217</td>\n",
              "      <td>1.924267</td>\n",
              "      <td>0.000033</td>\n",
              "      <td>0.422383</td>\n",
              "      <td>0.637733</td>\n",
              "      <td>0.042033</td>\n",
              "      <td>0.004983</td>\n",
              "      <td>0.008467</td>\n",
              "      <td>0.012933</td>\n",
              "      <td>0.000533</td>\n",
              "      <td>0.000067</td>\n",
              "      <td>0.000000</td>\n",
              "      <td>0.032283</td>\n",
              "      <td>0.001000</td>\n",
              "      <td>0.003750</td>\n",
              "      <td>0.001000</td>\n",
              "      <td>0.003217</td>\n",
              "      <td>35.12</td>\n",
              "      <td>rain</td>\n",
              "      <td>0.86</td>\n",
              "      <td>8.74</td>\n",
              "      <td>Light Rain</td>\n",
              "      <td>29.45</td>\n",
              "      <td>1011.49</td>\n",
              "      <td>6.72</td>\n",
              "      <td>0.31</td>\n",
              "      <td>186.0</td>\n",
              "      <td>0.0101</td>\n",
              "      <td>31.27</td>\n",
              "      <td>0.51</td>\n",
              "    </tr>\n",
              "    <tr>\n",
              "      <th>503908</th>\n",
              "      <td>1452128308</td>\n",
              "      <td>1.978200</td>\n",
              "      <td>0.003217</td>\n",
              "      <td>1.978200</td>\n",
              "      <td>0.000050</td>\n",
              "      <td>0.495667</td>\n",
              "      <td>0.620367</td>\n",
              "      <td>0.042100</td>\n",
              "      <td>0.005333</td>\n",
              "      <td>0.008233</td>\n",
              "      <td>0.012817</td>\n",
              "      <td>0.000517</td>\n",
              "      <td>0.000117</td>\n",
              "      <td>0.000017</td>\n",
              "      <td>0.032183</td>\n",
              "      <td>0.000950</td>\n",
              "      <td>0.003767</td>\n",
              "      <td>0.000950</td>\n",
              "      <td>0.003217</td>\n",
              "      <td>35.12</td>\n",
              "      <td>rain</td>\n",
              "      <td>0.86</td>\n",
              "      <td>8.74</td>\n",
              "      <td>Light Rain</td>\n",
              "      <td>29.45</td>\n",
              "      <td>1011.49</td>\n",
              "      <td>6.72</td>\n",
              "      <td>0.31</td>\n",
              "      <td>186.0</td>\n",
              "      <td>0.0101</td>\n",
              "      <td>31.27</td>\n",
              "      <td>0.51</td>\n",
              "    </tr>\n",
              "    <tr>\n",
              "      <th>503909</th>\n",
              "      <td>1452128309</td>\n",
              "      <td>1.990950</td>\n",
              "      <td>0.003233</td>\n",
              "      <td>1.990950</td>\n",
              "      <td>0.000050</td>\n",
              "      <td>0.494700</td>\n",
              "      <td>0.634133</td>\n",
              "      <td>0.042100</td>\n",
              "      <td>0.004917</td>\n",
              "      <td>0.008133</td>\n",
              "      <td>0.012833</td>\n",
              "      <td>0.000517</td>\n",
              "      <td>0.000117</td>\n",
              "      <td>0.000017</td>\n",
              "      <td>0.032167</td>\n",
              "      <td>0.000950</td>\n",
              "      <td>0.003767</td>\n",
              "      <td>0.000950</td>\n",
              "      <td>0.003233</td>\n",
              "      <td>35.12</td>\n",
              "      <td>rain</td>\n",
              "      <td>0.86</td>\n",
              "      <td>8.74</td>\n",
              "      <td>Light Rain</td>\n",
              "      <td>29.45</td>\n",
              "      <td>1011.49</td>\n",
              "      <td>6.72</td>\n",
              "      <td>0.31</td>\n",
              "      <td>186.0</td>\n",
              "      <td>0.0101</td>\n",
              "      <td>31.27</td>\n",
              "      <td>0.51</td>\n",
              "    </tr>\n",
              "    <tr>\n",
              "      <th>503910</th>\n",
              "      <td>\\</td>\n",
              "      <td>NaN</td>\n",
              "      <td>NaN</td>\n",
              "      <td>NaN</td>\n",
              "      <td>NaN</td>\n",
              "      <td>NaN</td>\n",
              "      <td>NaN</td>\n",
              "      <td>NaN</td>\n",
              "      <td>NaN</td>\n",
              "      <td>NaN</td>\n",
              "      <td>NaN</td>\n",
              "      <td>NaN</td>\n",
              "      <td>NaN</td>\n",
              "      <td>NaN</td>\n",
              "      <td>NaN</td>\n",
              "      <td>NaN</td>\n",
              "      <td>NaN</td>\n",
              "      <td>NaN</td>\n",
              "      <td>NaN</td>\n",
              "      <td>NaN</td>\n",
              "      <td>NaN</td>\n",
              "      <td>NaN</td>\n",
              "      <td>NaN</td>\n",
              "      <td>NaN</td>\n",
              "      <td>NaN</td>\n",
              "      <td>NaN</td>\n",
              "      <td>NaN</td>\n",
              "      <td>NaN</td>\n",
              "      <td>NaN</td>\n",
              "      <td>NaN</td>\n",
              "      <td>NaN</td>\n",
              "      <td>NaN</td>\n",
              "    </tr>\n",
              "  </tbody>\n",
              "</table>\n",
              "<p>503911 rows × 32 columns</p>\n",
              "</div>"
            ],
            "text/plain": [
              "              time  use [kW]  ...  dewPoint  precipProbability\n",
              "0       1451624400  0.932833  ...     24.40               0.00\n",
              "1       1451624401  0.934333  ...     24.40               0.00\n",
              "2       1451624402  0.931817  ...     24.40               0.00\n",
              "3       1451624403  1.022050  ...     24.40               0.00\n",
              "4       1451624404  1.139400  ...     24.40               0.00\n",
              "...            ...       ...  ...       ...                ...\n",
              "503906  1452128306  1.599333  ...     31.27               0.51\n",
              "503907  1452128307  1.924267  ...     31.27               0.51\n",
              "503908  1452128308  1.978200  ...     31.27               0.51\n",
              "503909  1452128309  1.990950  ...     31.27               0.51\n",
              "503910           \\       NaN  ...       NaN                NaN\n",
              "\n",
              "[503911 rows x 32 columns]"
            ]
          },
          "metadata": {
            "tags": []
          },
          "execution_count": 3
        }
      ]
    },
    {
      "cell_type": "code",
      "metadata": {
        "id": "EV2_U_wHXYd4",
        "colab": {
          "base_uri": "https://localhost:8080/",
          "height": 419
        },
        "outputId": "5fe523c7-4dcf-4844-d01b-1a339603ca1d"
      },
      "source": [
        "# Selecting particular column from the dataset\n",
        "df = df[[\"time\", \"House overall [kW]\"]]\n",
        "df"
      ],
      "execution_count": null,
      "outputs": [
        {
          "output_type": "execute_result",
          "data": {
            "text/html": [
              "<div>\n",
              "<style scoped>\n",
              "    .dataframe tbody tr th:only-of-type {\n",
              "        vertical-align: middle;\n",
              "    }\n",
              "\n",
              "    .dataframe tbody tr th {\n",
              "        vertical-align: top;\n",
              "    }\n",
              "\n",
              "    .dataframe thead th {\n",
              "        text-align: right;\n",
              "    }\n",
              "</style>\n",
              "<table border=\"1\" class=\"dataframe\">\n",
              "  <thead>\n",
              "    <tr style=\"text-align: right;\">\n",
              "      <th></th>\n",
              "      <th>time</th>\n",
              "      <th>House overall [kW]</th>\n",
              "    </tr>\n",
              "  </thead>\n",
              "  <tbody>\n",
              "    <tr>\n",
              "      <th>0</th>\n",
              "      <td>1451624400</td>\n",
              "      <td>0.932833</td>\n",
              "    </tr>\n",
              "    <tr>\n",
              "      <th>1</th>\n",
              "      <td>1451624401</td>\n",
              "      <td>0.934333</td>\n",
              "    </tr>\n",
              "    <tr>\n",
              "      <th>2</th>\n",
              "      <td>1451624402</td>\n",
              "      <td>0.931817</td>\n",
              "    </tr>\n",
              "    <tr>\n",
              "      <th>3</th>\n",
              "      <td>1451624403</td>\n",
              "      <td>1.022050</td>\n",
              "    </tr>\n",
              "    <tr>\n",
              "      <th>4</th>\n",
              "      <td>1451624404</td>\n",
              "      <td>1.139400</td>\n",
              "    </tr>\n",
              "    <tr>\n",
              "      <th>...</th>\n",
              "      <td>...</td>\n",
              "      <td>...</td>\n",
              "    </tr>\n",
              "    <tr>\n",
              "      <th>503906</th>\n",
              "      <td>1452128306</td>\n",
              "      <td>1.599333</td>\n",
              "    </tr>\n",
              "    <tr>\n",
              "      <th>503907</th>\n",
              "      <td>1452128307</td>\n",
              "      <td>1.924267</td>\n",
              "    </tr>\n",
              "    <tr>\n",
              "      <th>503908</th>\n",
              "      <td>1452128308</td>\n",
              "      <td>1.978200</td>\n",
              "    </tr>\n",
              "    <tr>\n",
              "      <th>503909</th>\n",
              "      <td>1452128309</td>\n",
              "      <td>1.990950</td>\n",
              "    </tr>\n",
              "    <tr>\n",
              "      <th>503910</th>\n",
              "      <td>\\</td>\n",
              "      <td>NaN</td>\n",
              "    </tr>\n",
              "  </tbody>\n",
              "</table>\n",
              "<p>503911 rows × 2 columns</p>\n",
              "</div>"
            ],
            "text/plain": [
              "              time  House overall [kW]\n",
              "0       1451624400            0.932833\n",
              "1       1451624401            0.934333\n",
              "2       1451624402            0.931817\n",
              "3       1451624403            1.022050\n",
              "4       1451624404            1.139400\n",
              "...            ...                 ...\n",
              "503906  1452128306            1.599333\n",
              "503907  1452128307            1.924267\n",
              "503908  1452128308            1.978200\n",
              "503909  1452128309            1.990950\n",
              "503910           \\                 NaN\n",
              "\n",
              "[503911 rows x 2 columns]"
            ]
          },
          "metadata": {
            "tags": []
          },
          "execution_count": 4
        }
      ]
    },
    {
      "cell_type": "markdown",
      "metadata": {
        "id": "LEVFW0wEvDRN"
      },
      "source": [
        "##DATA PREPROCESSING"
      ]
    },
    {
      "cell_type": "code",
      "metadata": {
        "id": "29ypbC-JXnsA",
        "colab": {
          "base_uri": "https://localhost:8080/",
          "height": 68
        },
        "outputId": "3bc35953-097d-4e72-b6bd-c15e43a866b3"
      },
      "source": [
        "# Checking for null values in the dataset\n",
        "df.isnull().sum()"
      ],
      "execution_count": null,
      "outputs": [
        {
          "output_type": "execute_result",
          "data": {
            "text/plain": [
              "time                  0\n",
              "House overall [kW]    1\n",
              "dtype: int64"
            ]
          },
          "metadata": {
            "tags": []
          },
          "execution_count": 5
        }
      ]
    },
    {
      "cell_type": "code",
      "metadata": {
        "id": "RVfR64Y-Xv2j",
        "colab": {
          "base_uri": "https://localhost:8080/",
          "height": 85
        },
        "outputId": "0db33f45-d5bb-46ed-d1ff-6372f4c4bfcc"
      },
      "source": [
        "# Handling null values in the dataset\n",
        "df = df[(df[\"time\"].notna()) & (df['House overall [kW]'].notna())]  # Selecting the non-null value only\n",
        "print(df.isnull().sum())\n",
        "print(df.shape)"
      ],
      "execution_count": null,
      "outputs": [
        {
          "output_type": "stream",
          "text": [
            "time                  0\n",
            "House overall [kW]    0\n",
            "dtype: int64\n",
            "(503910, 2)\n"
          ],
          "name": "stdout"
        }
      ]
    },
    {
      "cell_type": "code",
      "metadata": {
        "id": "y7FxoOelYmqK",
        "colab": {
          "base_uri": "https://localhost:8080/",
          "height": 419
        },
        "outputId": "0d0282bd-f42a-4878-cf39-f9ac7c2bced0"
      },
      "source": [
        "# Preparing the dataset\n",
        "df[\"time\"] = pd.to_datetime(df[\"time\"], unit=\"s\")  # Converting timestamp into datatime type\n",
        "df = df.rename({\"House overall [kW]\": \"energy_consumption\"})\n",
        "df"
      ],
      "execution_count": null,
      "outputs": [
        {
          "output_type": "execute_result",
          "data": {
            "text/html": [
              "<div>\n",
              "<style scoped>\n",
              "    .dataframe tbody tr th:only-of-type {\n",
              "        vertical-align: middle;\n",
              "    }\n",
              "\n",
              "    .dataframe tbody tr th {\n",
              "        vertical-align: top;\n",
              "    }\n",
              "\n",
              "    .dataframe thead th {\n",
              "        text-align: right;\n",
              "    }\n",
              "</style>\n",
              "<table border=\"1\" class=\"dataframe\">\n",
              "  <thead>\n",
              "    <tr style=\"text-align: right;\">\n",
              "      <th></th>\n",
              "      <th>time</th>\n",
              "      <th>energy_consumption</th>\n",
              "    </tr>\n",
              "  </thead>\n",
              "  <tbody>\n",
              "    <tr>\n",
              "      <th>0</th>\n",
              "      <td>2016-01-01 05:00:00</td>\n",
              "      <td>0.932833</td>\n",
              "    </tr>\n",
              "    <tr>\n",
              "      <th>1</th>\n",
              "      <td>2016-01-01 05:00:01</td>\n",
              "      <td>0.934333</td>\n",
              "    </tr>\n",
              "    <tr>\n",
              "      <th>2</th>\n",
              "      <td>2016-01-01 05:00:02</td>\n",
              "      <td>0.931817</td>\n",
              "    </tr>\n",
              "    <tr>\n",
              "      <th>3</th>\n",
              "      <td>2016-01-01 05:00:03</td>\n",
              "      <td>1.022050</td>\n",
              "    </tr>\n",
              "    <tr>\n",
              "      <th>4</th>\n",
              "      <td>2016-01-01 05:00:04</td>\n",
              "      <td>1.139400</td>\n",
              "    </tr>\n",
              "    <tr>\n",
              "      <th>...</th>\n",
              "      <td>...</td>\n",
              "      <td>...</td>\n",
              "    </tr>\n",
              "    <tr>\n",
              "      <th>503905</th>\n",
              "      <td>2016-01-07 00:58:25</td>\n",
              "      <td>1.601233</td>\n",
              "    </tr>\n",
              "    <tr>\n",
              "      <th>503906</th>\n",
              "      <td>2016-01-07 00:58:26</td>\n",
              "      <td>1.599333</td>\n",
              "    </tr>\n",
              "    <tr>\n",
              "      <th>503907</th>\n",
              "      <td>2016-01-07 00:58:27</td>\n",
              "      <td>1.924267</td>\n",
              "    </tr>\n",
              "    <tr>\n",
              "      <th>503908</th>\n",
              "      <td>2016-01-07 00:58:28</td>\n",
              "      <td>1.978200</td>\n",
              "    </tr>\n",
              "    <tr>\n",
              "      <th>503909</th>\n",
              "      <td>2016-01-07 00:58:29</td>\n",
              "      <td>1.990950</td>\n",
              "    </tr>\n",
              "  </tbody>\n",
              "</table>\n",
              "<p>503910 rows × 2 columns</p>\n",
              "</div>"
            ],
            "text/plain": [
              "                      time  energy_consumption\n",
              "0      2016-01-01 05:00:00            0.932833\n",
              "1      2016-01-01 05:00:01            0.934333\n",
              "2      2016-01-01 05:00:02            0.931817\n",
              "3      2016-01-01 05:00:03            1.022050\n",
              "4      2016-01-01 05:00:04            1.139400\n",
              "...                    ...                 ...\n",
              "503905 2016-01-07 00:58:25            1.601233\n",
              "503906 2016-01-07 00:58:26            1.599333\n",
              "503907 2016-01-07 00:58:27            1.924267\n",
              "503908 2016-01-07 00:58:28            1.978200\n",
              "503909 2016-01-07 00:58:29            1.990950\n",
              "\n",
              "[503910 rows x 2 columns]"
            ]
          },
          "metadata": {
            "tags": []
          },
          "execution_count": 8
        }
      ]
    },
    {
      "cell_type": "code",
      "metadata": {
        "id": "4qTC31sVgXP_"
      },
      "source": [
        "datetime = df[\"time\"].values\n",
        "energy_consumption = df[\"energy_consumption\"].values"
      ],
      "execution_count": null,
      "outputs": []
    },
    {
      "cell_type": "code",
      "metadata": {
        "id": "y8b0S45ilUBS",
        "colab": {
          "base_uri": "https://localhost:8080/",
          "height": 295
        },
        "outputId": "4dd3e763-91b4-4d03-dd1b-886607538a8b"
      },
      "source": [
        "# Visualizing the dataset\n",
        "import matplotlib.pyplot as plt\n",
        "\n",
        "plt.plot(datetime, energy_consumption)\n",
        "plt.title(\"Overall House Energy Consumption (kW)\", weight=\"bold\")\n",
        "plt.xlabel(\"Time\")\n",
        "plt.ylabel(\"Energy (kW)\")\n",
        "plt.grid(b=1, axis=\"y\")\n",
        "\n",
        "plt.show()"
      ],
      "execution_count": null,
      "outputs": [
        {
          "output_type": "display_data",
          "data": {
            "image/png": "[encoded data removed]",
            "text/plain": [
              "<Figure size 432x288 with 1 Axes>"
            ]
          },
          "metadata": {
            "tags": [],
            "needs_background": "light"
          }
        }
      ]
    },
    {
      "cell_type": "code",
      "metadata": {
        "id": "rxqiZPBDg-mC",
        "colab": {
          "base_uri": "https://localhost:8080/",
          "height": 102
        },
        "outputId": "1a6a4b76-a0e3-4ae4-ef9c-1f1f70664c6b"
      },
      "source": [
        "from sklearn.model_selection import train_test_split\n",
        "\n",
        "# Splitting the dataset\n",
        "x_train, x_test, y_train, y_test = train_test_split(datetime, energy_consumption, test_size=0.2)\n",
        "\n",
        "# Checking dataset splitting result\n",
        "print(f\"Training time data: {x_train.size} data\")\n",
        "print(f\"Training energy data: {y_train.size} data\")\n",
        "print(f\"Val time data: {x_test.size} data\")\n",
        "print(f\"Val energy data: {y_test.size} data\")\n",
        "print(f\"Total data: {x_train.size + x_test.size} data\")"
      ],
      "execution_count": null,
      "outputs": [
        {
          "output_type": "stream",
          "text": [
            "Training time data: 403128 data\n",
            "Training energy data: 403128 data\n",
            "Val time data: 100782 data\n",
            "Val energy data: 100782 data\n",
            "Total data: 503910 data\n"
          ],
          "name": "stdout"
        }
      ]
    },
    {
      "cell_type": "code",
      "metadata": {
        "id": "fqmBxEfKm1SI"
      },
      "source": [
        "import tensorflow as tf\n",
        "\n",
        "# Windowing the dataset\n",
        "def windowed_dataset(series, window_size, batch_size, shuffle_buffer):\n",
        "  series = tf.expand_dims(series, axis=-1)\n",
        "  ds = tf.data.Dataset.from_tensor_slices(series)\n",
        "  ds = ds.window(window_size + 1, shift=1, drop_remainder=True)\n",
        "  ds = ds.flat_map(lambda w: w.batch(window_size + 1))\n",
        "  ds = ds.shuffle(shuffle_buffer)\n",
        "  ds = ds.map(lambda w: (w[:-1], w[-1:]))\n",
        "  return ds.batch(batch_size).prefetch(1)\n",
        "\n",
        "train_dataset = windowed_dataset(y_train, window_size=120, batch_size=256, shuffle_buffer=403128)\n",
        "val_dataset = windowed_dataset(y_test, window_size=120, batch_size=128, shuffle_buffer=100782)"
      ],
      "execution_count": null,
      "outputs": []
    },
    {
      "cell_type": "markdown",
      "metadata": {
        "id": "pFlCD3SD0B6D"
      },
      "source": [
        "##MODEL TUNING AND STRUCTURING"
      ]
    },
    {
      "cell_type": "code",
      "metadata": {
        "id": "vRAnajcrOlwJ",
        "colab": {
          "base_uri": "https://localhost:8080/",
          "height": 51
        },
        "outputId": "e9cef0a6-24e7-44c3-baf7-0c3bd7be41cd"
      },
      "source": [
        "# Calculating the dataset scale\n",
        "data_scale = df[\"energy_consumption\"].max() - df[\"energy_consumption\"].min()\n",
        "print(f\"Skala data = {data_scale}\")\n",
        "\n",
        "# Calculating maximum error allowed for mae\n",
        "mae_range = 0.1 * data_scale\n",
        "print(f\"Batas maksimal error mae = {mae_range}\")"
      ],
      "execution_count": null,
      "outputs": [
        {
          "output_type": "stream",
          "text": [
            "Skala data = 14.71456667\n",
            "Batas maksimal error mae = 1.471456667\n"
          ],
          "name": "stdout"
        }
      ]
    },
    {
      "cell_type": "code",
      "metadata": {
        "id": "loSx6gZHtgUg",
        "colab": {
          "base_uri": "https://localhost:8080/",
          "height": 255
        },
        "outputId": "df1a4aaa-7fc7-4793-c1d9-2f68b30fcab8"
      },
      "source": [
        "# Implementing callback\n",
        "class MyCallback(tf.keras.callbacks.Callback):\n",
        "  def on_epoch_end(self, epoch, logs={}):\n",
        "    if ((logs.get(\"mae\") < 0.52) and (logs.get(\"val_mae\") < 0.52)):\n",
        "      print(\"\\nModel error has reached a value lower than 3.5% of the data scale!\")\n",
        "      self.model.stop_training = True\n",
        "\n",
        "callbacks = MyCallback()\n",
        "\n",
        "# Building and structuring the neural model\n",
        "model = tf.keras.Sequential([\n",
        "        tf.keras.layers.LSTM(64, return_sequences=True),\n",
        "        tf.keras.layers.LSTM(64),\n",
        "        tf.keras.layers.Dense(30, activation=\"relu\"),\n",
        "        tf.keras.layers.Dropout(0.2),\n",
        "        tf.keras.layers.Dense(10, activation=\"relu\"),\n",
        "        tf.keras.layers.Dense(1)\n",
        "])\n",
        "\n",
        "# Setting up the model optimizer and loss function\n",
        "optimizer = tf.keras.optimizers.SGD(learning_rate=0.000001, momentum=0.99)\n",
        "loss = tf.keras.losses.Huber()\n",
        "\n",
        "model.compile(loss=loss, optimizer=optimizer, metrics=[\"mae\"])\n",
        "\n",
        "# Training the neural model\n",
        "history = model.fit(train_dataset, validation_data=(val_dataset,), epochs=10, \n",
        "                    callbacks=[callbacks], verbose=2)"
      ],
      "execution_count": null,
      "outputs": [
        {
          "output_type": "stream",
          "text": [
            "Epoch 1/10\n",
            "1575/1575 - 48s - loss: 0.4675 - mae: 0.8360 - val_loss: 0.4281 - val_mae: 0.7718\n",
            "Epoch 2/10\n",
            "1575/1575 - 47s - loss: 0.4083 - mae: 0.7363 - val_loss: 0.3866 - val_mae: 0.6995\n",
            "Epoch 3/10\n",
            "1575/1575 - 49s - loss: 0.3627 - mae: 0.6535 - val_loss: 0.3342 - val_mae: 0.6011\n",
            "Epoch 4/10\n",
            "1575/1575 - 48s - loss: 0.3168 - mae: 0.5694 - val_loss: 0.2976 - val_mae: 0.5398\n",
            "Epoch 5/10\n",
            "1575/1575 - 48s - loss: 0.2888 - mae: 0.5280 - val_loss: 0.2762 - val_mae: 0.5156\n",
            "Epoch 6/10\n",
            "\n",
            "Model error has reached a value lower than 3.5% of the data scale!\n",
            "1575/1575 - 48s - loss: 0.2725 - mae: 0.5150 - val_loss: 0.2641 - val_mae: 0.5120\n"
          ],
          "name": "stdout"
        }
      ]
    },
    {
      "cell_type": "markdown",
      "metadata": {
        "id": "slthWOITZECN"
      },
      "source": [
        "##MODEL LOSS AND ERROR VISUALIZATION"
      ]
    },
    {
      "cell_type": "markdown",
      "metadata": {
        "id": "dqXbaK2lZFMS"
      },
      "source": [
        "###LOSS VISUALIZATION"
      ]
    },
    {
      "cell_type": "code",
      "metadata": {
        "id": "NGp5J8GO47Cw",
        "colab": {
          "base_uri": "https://localhost:8080/",
          "height": 295
        },
        "outputId": "243657e4-766a-49f1-9ddf-cc286d1920ca"
      },
      "source": [
        "# Plot training and validation loss during learning process\n",
        "import matplotlib.pyplot as plt\n",
        "\n",
        "plt.plot(history.history[\"loss\"], marker=\"o\", label=\"Training Data\")\n",
        "plt.plot(history.history[\"val_loss\"], marker=\"o\", label=\"Validation Data\")\n",
        "plt.title(\"LOSS GRAPH\", weight=\"bold\")\n",
        "plt.xlabel(\"Epoch\")\n",
        "plt.ylabel(\"Loss\")\n",
        "plt.grid(b=1, axis=\"y\")\n",
        "plt.legend()\n",
        "\n",
        "plt.show()"
      ],
      "execution_count": null,
      "outputs": [
        {
          "output_type": "display_data",
          "data": {
            "image/png": "[encoded data removed]",
            "text/plain": [
              "<Figure size 432x288 with 1 Axes>"
            ]
          },
          "metadata": {
            "tags": [],
            "needs_background": "light"
          }
        }
      ]
    },
    {
      "cell_type": "markdown",
      "metadata": {
        "id": "DfhFwPjeZOet"
      },
      "source": [
        "###ERROR VISUALIZATION"
      ]
    },
    {
      "cell_type": "code",
      "metadata": {
        "id": "3sxIaZKkVmnt",
        "colab": {
          "base_uri": "https://localhost:8080/",
          "height": 295
        },
        "outputId": "e11fb82b-ef48-4324-c313-71c2ff85d6fd"
      },
      "source": [
        "# Plot training and validation error during learning process\n",
        "import matplotlib.pyplot as plt\n",
        "\n",
        "plt.plot(history.history[\"mae\"], marker=\"o\", label=\"Training Data\")\n",
        "plt.plot(history.history[\"val_mae\"], marker=\"o\", label=\"Validation Data\")\n",
        "plt.title(\"ERROR (MAE) GRAPH\", weight=\"bold\")\n",
        "plt.xlabel(\"Epoch\")\n",
        "plt.ylabel(\"MAE\")\n",
        "plt.grid(b=1, axis=\"y\")\n",
        "plt.legend()\n",
        "\n",
        "plt.show()"
      ],
      "execution_count": null,
      "outputs": [
        {
          "output_type": "display_data",
          "data": {
            "image/png": "[encoded data removed]",
            "text/plain": [
              "<Figure size 432x288 with 1 Axes>"
            ]
          },
          "metadata": {
            "tags": [],
            "needs_background": "light"
          }
        }
      ]
    },
    {
      "cell_type": "markdown",
      "metadata": {
        "id": "k3Kuci2MYC5h"
      },
      "source": [
        "##REFERENCE"
      ]
    },
    {
      "cell_type": "markdown",
      "metadata": {
        "id": "yl5DL04KYEWf"
      },
      "source": [
        "###Dataset source: https://www.kaggle.com/taranvee/smart-home-dataset-with-weather-information"
      ]
    }
  ]
}